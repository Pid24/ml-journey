import numpy as np
import pandas as pd
import matplotlib.pyplot as plt
import seaborn as sns

print("Semua library berhasil di import")


df = pd.read_csv("../data/titanic/train.csv")
df.head()


import seaborn as sns
import matplotlib.pyplot as plt

plt.figure(figsize=(6,4))
sns.countplot(x="Survived", data=df)
plt.title("Jumlah penumpang Selamat vs Tidak")
plt.show()

plt.figure(figsize=(8,5))
sns.histplot(df["Age"], bins=30, kde=True, color="Skyblue")
plt.title("Distribusi Usia Penumpang")
plt.show()



