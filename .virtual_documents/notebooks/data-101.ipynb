import numpy as np
import pandas as pd
import matplotlib.pyplot as plt
import seaborn as sns

print("Semua library berhasil di import")


df = pd.read_csv("../data/titanic/train.csv")
df.head()


import seaborn as sns
import matplotlib.pyplot as plt

plt.figure(figsize=(6,4))
sns.countplot(x="Survived", data=df)
plt.title("Jumlah penumpang Selamat vs Tidak")
plt.show()

plt.figure(figsize=(8,5))
sns.histplot(df["Age"], bins=30, kde=True, color="Skyblue")
plt.title("Distribusi Usia Penumpang")
plt.show()


### 🧠 Insight Sementara
- Sekitar 62% penumpang tidak selamat dan 38% selamat.
- Penumpang muda (20–40 tahun) paling banyak.
- Terlihat ada beberapa anak-anak (usia <10) dan sedikit penumpang tua (60–80).


import pandas as pd, matplotlib.pyplot as plt

cols = ["Survived","Sex","Pclass","Embarked"]
d = df[cols].copy()
for c in ["Sex","Pclass","Embarked"]:
    d[c] = d[c].astype("category")


print(d.isna().sum().sort_values(ascending=False))
print(d["Sex"].value_counts(dropna=False))
print(d["Pclass"].value_counts(dropna=False))
print(d["Embarked"].value_counts(dropna=False))


ct_sex    = pd.crosstab(d["Sex"],    d["Survived"], normalize="index").rename(columns={0:"not_survive",1:"survive"})
ct_pclass = pd.crosstab(d["Pclass"], d["Survived"], normalize="index").rename(columns={0:"not_survive",1:"survive"})
ct_emb    = pd.crosstab(d["Embarked"].dropna(), d.loc[d["Embarked"].notna(),"Survived"], normalize="index")\
              .rename(columns={0:"not_survive",1:"survive"})

ct_sex, ct_pclass, ct_emb


ax = ct_sex["survive"].plot(kind="bar")
ax.set_ylim(0,1); ax.set_ylabel("Survival rate"); ax.set_title("Survival rate by Sex")
plt.show()



